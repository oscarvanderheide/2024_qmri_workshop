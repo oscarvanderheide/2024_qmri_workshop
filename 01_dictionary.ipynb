{
 "cells": [
  {
   "cell_type": "markdown",
   "id": "790542f8-21b2-4a41-afee-82ce18674885",
   "metadata": {
    "id": "790542f8-21b2-4a41-afee-82ce18674885"
   },
   "source": [
    "# MR Fingerprinting Dictionary Generation\n",
    "\n",
    "In this example we demonstrate how to generate an MR Fingerprinting dictionary using a FISP type sequence with varying RF flip angles."
   ]
  },
  {
   "cell_type": "markdown",
   "id": "07630295",
   "metadata": {},
   "source": [
    "First, we install all the required dependencies as specified by the `Project.toml` and `Manifest.toml` files."
   ]
  },
  {
   "cell_type": "code",
   "execution_count": null,
   "id": "e5475b72-0c64-4a46-a37b-9e05ba8f134c",
   "metadata": {
    "id": "e5475b72-0c64-4a46-a37b-9e05ba8f134c"
   },
   "outputs": [],
   "source": [
    "using Pkg\n",
    "Pkg.instantiate()"
   ]
  },
  {
   "cell_type": "code",
   "execution_count": null,
   "id": "c2ea179d",
   "metadata": {},
   "outputs": [],
   "source": [
    "# Load packages required for this notebook\n",
    "using BlochSimulators\n",
    "using ComputationalResources\n",
    "using StructArrays"
   ]
  },
  {
   "cell_type": "markdown",
   "id": "a83bdc1f-e226-4dc3-b8ab-55e70ae489f2",
   "metadata": {
    "id": "a83bdc1f-e226-4dc3-b8ab-55e70ae489f2"
   },
   "source": [
    "## Simulation setup\n",
    "\n",
    "The 2D FISP sequence with time-varying RF excitations is defined in `src/sequences/fisp.jl`. \n",
    "We set all the required fields and create an instance of this type."
   ]
  },
  {
   "cell_type": "code",
   "execution_count": null,
   "id": "ab769466-629b-4ce4-9dae-8283bc290d7d",
   "metadata": {
    "id": "ab769466-629b-4ce4-9dae-8283bc290d7d"
   },
   "outputs": [],
   "source": [
    "nTR = 1000; # nr of TRs used in the simulation\n",
    "RF_train = LinRange(1, 90, nTR) |> collect; # flip angle train\n",
    "TR, TE, TI = 0.010, 0.005, 0.100; # repetition time, echo time, inversion delay\n",
    "max_state = 64; # maximum number of configuration states to keep track of\n",
    "\n",
    "sequence = FISP2D(complex.(RF_train), TR, TE, max_state, TI);"
   ]
  },
  {
   "cell_type": "markdown",
   "id": "32094fb3",
   "metadata": {},
   "source": [
    "Next, set the desired input tissue properties for which the\n",
    "FISP sequence response will be simulated"
   ]
  },
  {
   "cell_type": "code",
   "execution_count": null,
   "id": "f63f113e-dfba-4638-9386-b75f7d493bc4",
   "metadata": {
    "id": "f63f113e-dfba-4638-9386-b75f7d493bc4"
   },
   "outputs": [],
   "source": [
    "T₁_range = range(start=0.1, stop=5.0, length=50); # T₁ range\n",
    "T₂_range = range(start=0.025, stop=0.5, length=50); # T₂ range\n",
    "\n",
    "# Generate valid combinations of T₁ and T₂ and store them in custom T₁T₂ struct\n",
    "parameters = ([T₁T₂(T₁,T₂) for T₁ ∈ T₁_range, T₂ ∈ T₂_range if T₁ > T₂]);\n",
    "\n",
    "println(\"Length parameters: $(length(parameters))\")"
   ]
  },
  {
   "cell_type": "markdown",
   "id": "9bd304ed",
   "metadata": {},
   "source": [
    "Now we can perform the simulations using different hardware resources"
   ]
  },
  {
   "cell_type": "markdown",
   "id": "0d6f3266-605a-4d22-88ce-de400d476ec7",
   "metadata": {
    "id": "0d6f3266-605a-4d22-88ce-de400d476ec7"
   },
   "source": [
    "## Single-threaded CPU"
   ]
  },
  {
   "cell_type": "markdown",
   "id": "4b5f54d6",
   "metadata": {},
   "source": [
    "Note that the first time a function is called in a Julia session,\n",
    "a precompilation procedure starts and the runtime for subsequent function\n",
    "calls are significantly faster"
   ]
  },
  {
   "cell_type": "code",
   "execution_count": null,
   "id": "b3b8dd8b-3849-4cb0-a824-b8bab39c06a9",
   "metadata": {
    "id": "b3b8dd8b-3849-4cb0-a824-b8bab39c06a9"
   },
   "outputs": [],
   "source": [
    "@time dictionary = simulate_magnetization(CPU1(), sequence, parameters)"
   ]
  },
  {
   "cell_type": "markdown",
   "id": "5dbc0122",
   "metadata": {},
   "source": [
    "The second time a function is called with arguments of similar types,\n",
    "the pre-compiled version is called immediatly."
   ]
  },
  {
   "cell_type": "code",
   "execution_count": null,
   "id": "8dad6f37-080e-49dc-987f-5fadf85c934e",
   "metadata": {
    "id": "8dad6f37-080e-49dc-987f-5fadf85c934e"
   },
   "outputs": [],
   "source": [
    "@time dictionary = simulate_magnetization(CPU1(), sequence, parameters);"
   ]
  },
  {
   "cell_type": "markdown",
   "id": "90c76b43",
   "metadata": {},
   "source": [
    "Note that the dictionary is a matrix with the magnetization response (at echo times)\n",
    "for all combinations of input tissue properties"
   ]
  },
  {
   "cell_type": "code",
   "execution_count": null,
   "id": "fd0a41c8-46d3-4d33-9abc-6e4b2f957d4d",
   "metadata": {
    "id": "fd0a41c8-46d3-4d33-9abc-6e4b2f957d4d"
   },
   "outputs": [],
   "source": [
    "@assert size(dictionary) == (nTR, length(parameters))"
   ]
  },
  {
   "cell_type": "markdown",
   "id": "e9d0575e-42fd-4015-a272-57aff4f7da9c",
   "metadata": {
    "id": "e9d0575e-42fd-4015-a272-57aff4f7da9c"
   },
   "source": [
    "## Multi-threaded CPU\n",
    "\n",
    "To use multiple threads, Julia must be started with the `--threads=auto`\n",
    "flag (or some integer instead of `auto`). Alternatively, set the\n",
    "environent variable `JULIA_NUM_THREADS` to the desired number of threads\n",
    "in your shell before starting Julia."
   ]
  },
  {
   "cell_type": "code",
   "execution_count": null,
   "id": "935c8e07-c16a-4f3a-891d-d0b3674130c6",
   "metadata": {
    "id": "935c8e07-c16a-4f3a-891d-d0b3674130c6"
   },
   "outputs": [],
   "source": [
    "# Check the number of available threads\n",
    "println(\"Current number of threads: $(Threads.nthreads())\")"
   ]
  },
  {
   "cell_type": "markdown",
   "id": "1240b54c",
   "metadata": {},
   "source": [
    "We can simulate in a multi-threaded fashion with the following syntax:"
   ]
  },
  {
   "cell_type": "code",
   "execution_count": null,
   "id": "a940a772-ae01-4757-a248-61ad1d454a2a",
   "metadata": {
    "id": "a940a772-ae01-4757-a248-61ad1d454a2a"
   },
   "outputs": [],
   "source": [
    "@time dictionary = simulate_magnetization(CPUThreads(), sequence, parameters);"
   ]
  },
  {
   "cell_type": "markdown",
   "id": "d9008ad8",
   "metadata": {},
   "source": [
    "In fact, BlochSimulators defaults to using CPUThreads() so we can also call"
   ]
  },
  {
   "cell_type": "code",
   "execution_count": null,
   "id": "cdfcbe7d-8cd7-4f50-b4d4-a257e0d603d6",
   "metadata": {
    "id": "cdfcbe7d-8cd7-4f50-b4d4-a257e0d603d6"
   },
   "outputs": [],
   "source": [
    "@time dictionary = simulate_magnetization(sequence, parameters);"
   ]
  },
  {
   "cell_type": "markdown",
   "id": "cd5dc657-ad95-477f-a87b-1efcc6827e10",
   "metadata": {
    "id": "cd5dc657-ad95-477f-a87b-1efcc6827e10"
   },
   "source": [
    "## Distributed CPU\n",
    "\n",
    "For distributed CPU mode, use the Distribute packages (ships with Julia)\n",
    "to add workers first"
   ]
  },
  {
   "cell_type": "code",
   "execution_count": null,
   "id": "e0262b61-1752-4635-bf8f-0930b9c7f747",
   "metadata": {
    "id": "e0262b61-1752-4635-bf8f-0930b9c7f747"
   },
   "outputs": [],
   "source": [
    "using Distributed\n",
    "addprocs(4, exeflags=\"--project=.\")\n",
    "\n",
    "\n",
    "@everywhere using BlochSimulators\n",
    "\n",
    "println(\"Current number of workers: $(nworkers())\")\n",
    "@time dictionary = simulate_magnetization(CPUProcesses(), sequence, parameters);"
   ]
  },
  {
   "cell_type": "markdown",
   "metadata": {},
   "source": [
    "Alternatively, if you can ssh into some other machine,\n",
    "you can add CPUs from that machine as follows:\n",
    "\n",
    "`addprocs([(\"12.345.67.89\", 4)], exeflags=\"--project=.\"`\n",
    "\n",
    "Or, if you want to run this code on cluster with a queuing system, use ClusterManagers package.\n",
    "\n",
    "After workers have been added, load BlochSimulators on all workers\n",
    "and then start a distributed dictionary generation with:"
   ]
  },
  {
   "cell_type": "markdown",
   "id": "186dc3ce-16d7-43df-9075-586183cc35c3",
   "metadata": {
    "id": "186dc3ce-16d7-43df-9075-586183cc35c3"
   },
   "source": [
    "## GPU (CUDA device)\n",
    "\n",
    "First, let's check if a CUDA device is available"
   ]
  },
  {
   "cell_type": "code",
   "execution_count": null,
   "id": "59f74cb1",
   "metadata": {},
   "outputs": [],
   "source": [
    "using CUDA\n",
    "\n",
    "@assert CUDA.has_cuda_gpu()\n",
    "\n",
    "println(\"Active CUDA device:\");\n",
    "CUDA.device()"
   ]
  },
  {
   "cell_type": "markdown",
   "id": "e912f385",
   "metadata": {},
   "source": [
    "To perform simulations on GPU, we first convert the sequence and parameters\n",
    "to single precision and then send them to the gpu. \n",
    "\n",
    "To this end, BlochSimulators\n",
    "exports a `f32` function which recursively converts inputs to single precision.\n",
    "\n",
    "\n",
    "Similarly, a `gpu` function is exported which sends the input to the GPU."
   ]
  },
  {
   "cell_type": "code",
   "execution_count": null,
   "id": "f5993283-ae45-4ec3-adfa-28ca35ac27e3",
   "metadata": {
    "id": "f5993283-ae45-4ec3-adfa-28ca35ac27e3"
   },
   "outputs": [],
   "source": [
    "cu_sequence = sequence |> f32 |> gpu;\n",
    "cu_parameters = parameters |> f32 |> gpu;"
   ]
  },
  {
   "cell_type": "markdown",
   "id": "47f4d3de",
   "metadata": {},
   "source": [
    "Remember, the first time a compilation procedure takes place which, especially\n",
    "on GPU, can take some time."
   ]
  },
  {
   "cell_type": "code",
   "execution_count": null,
   "id": "b6d3514a",
   "metadata": {},
   "outputs": [],
   "source": [
    "CUDA.@time dictionary = simulate_magnetization(CUDALibs(), cu_sequence, cu_parameters);"
   ]
  },
  {
   "cell_type": "code",
   "execution_count": null,
   "id": "jayVqPYML5s2",
   "metadata": {
    "id": "jayVqPYML5s2"
   },
   "outputs": [],
   "source": [
    "CUDA.@time dictionary = simulate_magnetization(CUDALibs(), cu_sequence, cu_parameters);"
   ]
  },
  {
   "cell_type": "markdown",
   "id": "bd59fc47",
   "metadata": {},
   "source": [
    "Now let's increase the number of tissue property combinations for which\n",
    "simulations are performed:"
   ]
  },
  {
   "cell_type": "code",
   "execution_count": null,
   "id": "0S_vWa5hL51x",
   "metadata": {
    "id": "0S_vWa5hL51x"
   },
   "outputs": [],
   "source": [
    "T₁ = rand(500_000)\n",
    "T₂ = 0.1 * T₁\n",
    "cu_parameters = (@parameters T₁ T₂) |> f32 |> gpu\n",
    "\n",
    "CUDA.@time dictionary = simulate_magnetization(CUDALibs(), cu_sequence, cu_parameters);"
   ]
  }
 ],
 "metadata": {
  "colab": {
   "provenance": [],
   "toc_visible": true
  },
  "kernelspec": {
   "display_name": "Julia 1.10.4",
   "language": "julia",
   "name": "julia-1.10"
  },
  "language_info": {
   "file_extension": ".jl",
   "mimetype": "application/julia",
   "name": "julia",
   "version": "1.10.4"
  }
 },
 "nbformat": 4,
 "nbformat_minor": 5
}
