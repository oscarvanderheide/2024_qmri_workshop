{
 "cells": [
  {
   "cell_type": "markdown",
   "id": "5652b529-d7bf-4d13-a6cb-0d4244aa5ad3",
   "metadata": {
    "id": "5652b529-d7bf-4d13-a6cb-0d4244aa5ad3"
   },
   "source": [
    "# Adiabatic inversion pulse\n",
    "\n",
    "In this example we demonstrate how to simulate an adiabatic inversion\n",
    "pulse using the AdiabaticInversion implementation in BlochSimulators.jl"
   ]
  },
  {
   "cell_type": "code",
   "execution_count": null,
   "id": "96c4b3cd-6863-436b-90a3-b1937e491bc1",
   "metadata": {
    "id": "96c4b3cd-6863-436b-90a3-b1937e491bc1"
   },
   "outputs": [],
   "source": [
    "# Load packages\n",
    "using BlochSimulators\n",
    "using StructArrays, ComputationalResources\n",
    "using PythonPlot"
   ]
  },
  {
   "cell_type": "code",
   "execution_count": null,
   "id": "da711f0e",
   "metadata": {},
   "outputs": [],
   "source": [
    "# Parameters taken from Bernstein - Handbook of MRI Pulse Sequences, p. 196\n",
    "γ = 267.52218744e6\n",
    "T = 8e-3 # s\n",
    "t = LinRange(-T / 2, T / 2, 1000)\n",
    "Δt = first(diff(t))\n",
    "TΔf = 10 # ?\n",
    "β = 800 # rad/s\n",
    "A₀ = 14e-6 # T\n",
    "μ = 4.9 #"
   ]
  },
  {
   "cell_type": "code",
   "execution_count": null,
   "id": "6677b0a4",
   "metadata": {},
   "outputs": [],
   "source": [
    "# Amplitude modulation\n",
    "A = @. A₀ * sech(β * t)\n",
    "γΔtA = γ * Δt * A"
   ]
  },
  {
   "cell_type": "code",
   "execution_count": null,
   "id": "c4a606a0",
   "metadata": {},
   "outputs": [],
   "source": [
    "# Frequency modulation\n",
    "Δω = @. -μ * β * tanh(β * t)\n",
    "Δf = Δω / 2π"
   ]
  },
  {
   "cell_type": "code",
   "execution_count": null,
   "id": "07c989ed",
   "metadata": {},
   "outputs": [],
   "source": [
    "# Assemble \"sequence\"\n",
    "sequence = BlochSimulators.AdiabaticInversion(γΔtA, Δω, Δt)"
   ]
  },
  {
   "cell_type": "code",
   "execution_count": null,
   "id": "77a7007c",
   "metadata": {},
   "outputs": [],
   "source": [
    "# Set parameters\n",
    "B₀ = -2000:2000\n",
    "parameters = T₁T₂B₀.(1.0, 0.1, B₀)"
   ]
  },
  {
   "cell_type": "code",
   "execution_count": null,
   "id": "3493be51",
   "metadata": {},
   "outputs": [],
   "source": [
    "# Perform simulations\n",
    "@time m = simulate_magnetization(CPU1(), sequence, parameters) |> StructArray"
   ]
  },
  {
   "cell_type": "code",
   "execution_count": null,
   "id": "9042b6bc",
   "metadata": {},
   "outputs": [],
   "source": [
    "# Plot results\n",
    "figure();\n",
    "plot(B₀, m.z);\n",
    "plot(B₀, abs.(complex.(m.x, m.y)));\n",
    "legend([\"mz\", \"mxy\"]);\n",
    "ylim([-1, 1])\n",
    "title(\"Adiabatic inversion for different off-resonance values\")"
   ]
  }
 ],
 "metadata": {
  "accelerator": "GPU",
  "colab": {
   "gpuType": "T4",
   "provenance": []
  },
  "kernelspec": {
   "display_name": "Julia 1.11.1",
   "language": "julia",
   "name": "julia-1.11"
  },
  "language_info": {
   "file_extension": ".jl",
   "mimetype": "application/julia",
   "name": "julia",
   "version": "1.11.1"
  }
 },
 "nbformat": 4,
 "nbformat_minor": 5
}
