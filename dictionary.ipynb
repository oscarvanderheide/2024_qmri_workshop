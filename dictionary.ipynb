{
  "cells": [
    {
      "cell_type": "markdown",
      "id": "790542f8-21b2-4a41-afee-82ce18674885",
      "metadata": {
        "id": "790542f8-21b2-4a41-afee-82ce18674885"
      },
      "source": [
        "# MR Fingerprinting Dictionary Generation\n",
        "\n",
        "In this example we demonstrate how to generate an MR Fingerprinting dictionary using a FISP type sequence"
      ]
    },
    {
      "cell_type": "markdown",
      "source": [
        "But first we have to install Julia (v1.10.6) on the current Colab Runtime. If I understood things correctly, the runtime can be used by multiple notebook files."
      ],
      "metadata": {
        "id": "DCgjuTdcIqwX"
      },
      "id": "DCgjuTdcIqwX"
    },
    {
      "cell_type": "code",
      "source": [
        "%%shell\n",
        "set -e\n",
        "\n",
        "#---------------------------------------------------#\n",
        "JULIA_VERSION=\"1.10.6\"\n",
        "JULIA_PACKAGES=\"IJulia\"\n",
        "JULIA_PACKAGES_IF_GPU=\"CUDA\" # or CuArrays for older Julia versions\n",
        "JULIA_NUM_THREADS=4\n",
        "#---------------------------------------------------#\n",
        "\n",
        "if [ -z `which julia` ]; then\n",
        "  # Install Julia\n",
        "  JULIA_VER=`cut -d '.' -f -2 <<< \"$JULIA_VERSION\"`\n",
        "  echo \"Installing Julia $JULIA_VERSION on the current Colab Runtime...\"\n",
        "  BASE_URL=\"https://julialang-s3.julialang.org/bin/linux/x64\"\n",
        "  URL=\"$BASE_URL/$JULIA_VER/julia-$JULIA_VERSION-linux-x86_64.tar.gz\"\n",
        "  wget -nv $URL -O /tmp/julia.tar.gz # -nv means \"not verbose\"\n",
        "  tar -x -f /tmp/julia.tar.gz -C /usr/local --strip-components 1\n",
        "  rm /tmp/julia.tar.gz\n",
        "\n",
        "  # Install Packages\n",
        "  nvidia-smi -L &> /dev/null && export GPU=1 || export GPU=0\n",
        "  if [ $GPU -eq 1 ]; then\n",
        "    JULIA_PACKAGES=\"$JULIA_PACKAGES $JULIA_PACKAGES_IF_GPU\"\n",
        "  fi\n",
        "  for PKG in `echo $JULIA_PACKAGES`; do\n",
        "    echo \"Installing Julia package $PKG...\"\n",
        "    julia -e 'using Pkg; pkg\"add '$PKG'; precompile;\"' &> /dev/null\n",
        "  done\n",
        "\n",
        "  # Install kernel and rename it to \"julia\"\n",
        "  echo \"Installing IJulia kernel...\"\n",
        "  julia -e 'using IJulia; IJulia.installkernel(\"julia\", env=Dict(\n",
        "      \"JULIA_NUM_THREADS\"=>\"'\"$JULIA_NUM_THREADS\"'\"))'\n",
        "  KERNEL_DIR=`julia -e \"using IJulia; print(IJulia.kerneldir())\"`\n",
        "  KERNEL_NAME=`ls -d \"$KERNEL_DIR\"/julia*`\n",
        "  mv -f $KERNEL_NAME \"$KERNEL_DIR\"/julia\n",
        "\n",
        "  echo ''\n",
        "  echo \"Successfully installed `julia -v`!\"\n",
        "  echo \"Please reload this page (press Ctrl+R, ⌘+R, or the F5 key) then\"\n",
        "  echo \"jump to the 'Checking the Installation' section.\"\n",
        "fi"
      ],
      "metadata": {
        "id": "uxNYwOH4INrZ",
        "outputId": "98a958aa-a0ad-43bb-b43d-08810889dd2a",
        "colab": {
          "base_uri": "https://localhost:8080/",
          "height": 171
        }
      },
      "id": "uxNYwOH4INrZ",
      "execution_count": 2,
      "outputs": [
        {
          "output_type": "display_data",
          "data": {
            "text/plain": [
              "  Unrecognized magic \u001b[36m%%shell\u001b[39m.\n",
              "\n",
              "  Julia does not use the IPython \u001b[36m%magic\u001b[39m syntax. To interact with the IJulia kernel, use\n",
              "  \u001b[36mIJulia.somefunction(...)\u001b[39m, for example. Julia macros, string macros, and functions can be used to\n",
              "  accomplish most of the other functionalities of IPython magics."
            ],
            "text/markdown": "Unrecognized magic `%%shell`.\n\nJulia does not use the IPython `%magic` syntax.   To interact with the IJulia kernel, use `IJulia.somefunction(...)`, for example.  Julia macros, string macros, and functions can be used to accomplish most of the other functionalities of IPython magics.\n",
            "text/latex": "Unrecognized magic \\texttt{\\%\\%shell}.\n\nJulia does not use the IPython \\texttt{\\%magic} syntax.   To interact with the IJulia kernel, use \\texttt{IJulia.somefunction(...)}, for example.  Julia macros, string macros, and functions can be used to accomplish most of the other functionalities of IPython magics.\n\n"
          },
          "metadata": {}
        },
        {
          "output_type": "display_data",
          "data": {
            "text/plain": [
              "  Unrecognized magic \u001b[36m%%shell\u001b[39m.\n",
              "\n",
              "  Julia does not use the IPython \u001b[36m%magic\u001b[39m syntax. To interact with the IJulia kernel, use\n",
              "  \u001b[36mIJulia.somefunction(...)\u001b[39m, for example. Julia macros, string macros, and functions can be used to\n",
              "  accomplish most of the other functionalities of IPython magics."
            ],
            "text/markdown": "Unrecognized magic `%%shell`.\n\nJulia does not use the IPython `%magic` syntax.   To interact with the IJulia kernel, use `IJulia.somefunction(...)`, for example.  Julia macros, string macros, and functions can be used to accomplish most of the other functionalities of IPython magics.\n",
            "text/latex": "Unrecognized magic \\texttt{\\%\\%shell}.\n\nJulia does not use the IPython \\texttt{\\%magic} syntax.   To interact with the IJulia kernel, use \\texttt{IJulia.somefunction(...)}, for example.  Julia macros, string macros, and functions can be used to accomplish most of the other functionalities of IPython magics.\n\n"
          },
          "metadata": {}
        }
      ]
    },
    {
      "cell_type": "code",
      "source": [
        "# Check julia installation\n",
        "versioninfo()"
      ],
      "metadata": {
        "id": "iACcCDOWKvyp",
        "outputId": "ac60b45a-911e-4f8a-8511-03dfed06485b",
        "colab": {
          "base_uri": "https://localhost:8080/"
        }
      },
      "id": "iACcCDOWKvyp",
      "execution_count": 4,
      "outputs": [
        {
          "output_type": "stream",
          "name": "stdout",
          "text": [
            "Julia Version 1.10.6\n",
            "Commit 67dffc4a8ae (2024-10-28 12:23 UTC)\n",
            "Build Info:\n",
            "  Official https://julialang.org/ release\n",
            "Platform Info:\n",
            "  OS: Linux (x86_64-linux-gnu)\n",
            "  CPU: 2 × Intel(R) Xeon(R) CPU @ 2.20GHz\n",
            "  WORD_SIZE: 64\n",
            "  LIBM: libopenlibm\n",
            "  LLVM: libLLVM-15.0.7 (ORCJIT, broadwell)\n",
            "Threads: 1 default, 0 interactive, 1 GC (on 2 virtual cores)\n",
            "Environment:\n",
            "  LD_LIBRARY_PATH = /usr/local/nvidia/lib:/usr/local/nvidia/lib64\n"
          ]
        },
        {
          "output_type": "execute_result",
          "data": {
            "text/plain": [
              "\"/content\""
            ]
          },
          "metadata": {},
          "execution_count": 4
        }
      ]
    },
    {
      "cell_type": "code",
      "source": [
        "# Install external packages\n",
        "using Pkg;\n",
        "\n",
        "Pkg.add([\"BenchmarkTools\", \"BlochSimulators\", \"ComputationalResources\", \"CUDA\", \"FFTW\", \"ImagePhantoms\", \"PythonPlot\", \"StaticArrays\", \"StructArrays\"])"
      ],
      "metadata": {
        "id": "e3q2srLGLJwU",
        "outputId": "8091c005-8878-4827-8937-1009ef3f76f4",
        "colab": {
          "base_uri": "https://localhost:8080/"
        }
      },
      "id": "e3q2srLGLJwU",
      "execution_count": null,
      "outputs": [
        {
          "output_type": "stream",
          "name": "stderr",
          "text": [
            "\u001b[32m\u001b[1m    Updating\u001b[22m\u001b[39m registry at `~/.julia/registries/General.toml`\n",
            "\u001b[32m\u001b[1m   Resolving\u001b[22m\u001b[39m package versions...\n",
            "\u001b[32m\u001b[1m   Installed\u001b[22m\u001b[39m IrrationalConstants ───────── v0.2.2\n",
            "\u001b[32m\u001b[1m   Installed\u001b[22m\u001b[39m GPUArraysCore ─────────────── v0.1.6\n",
            "\u001b[32m\u001b[1m   Installed\u001b[22m\u001b[39m Crayons ───────────────────── v4.1.1\n",
            "\u001b[32m\u001b[1m   Installed\u001b[22m\u001b[39m MicroMamba ────────────────── v0.1.14\n",
            "\u001b[32m\u001b[1m   Installed\u001b[22m\u001b[39m ColorTypes ────────────────── v0.11.5\n",
            "\u001b[32m\u001b[1m   Installed\u001b[22m\u001b[39m Adapt ─────────────────────── v4.1.1\n",
            "\u001b[32m\u001b[1m   Installed\u001b[22m\u001b[39m Scratch ───────────────────── v1.2.1\n",
            "\u001b[32m\u001b[1m   Installed\u001b[22m\u001b[39m OffsetArrays ──────────────── v1.14.1\n",
            "\u001b[32m\u001b[1m   Installed\u001b[22m\u001b[39m oneTBB_jll ────────────────── v2021.12.0+0\n",
            "\u001b[32m\u001b[1m   Installed\u001b[22m\u001b[39m IntegerMathUtils ──────────── v0.1.2\n",
            "\u001b[32m\u001b[1m   Installed\u001b[22m\u001b[39m TypeUtils ─────────────────── v1.4.0\n",
            "\u001b[32m\u001b[1m   Installed\u001b[22m\u001b[39m Functors ──────────────────── v0.4.12\n",
            "\u001b[32m\u001b[1m   Installed\u001b[22m\u001b[39m PythonCall ────────────────── v0.9.23\n",
            "\u001b[32m\u001b[1m   Installed\u001b[22m\u001b[39m PrettyTables ──────────────── v2.4.0\n",
            "\u001b[32m\u001b[1m   Installed\u001b[22m\u001b[39m demumble_jll ──────────────── v1.3.0+0\n",
            "\u001b[32m\u001b[1m   Installed\u001b[22m\u001b[39m JSON3 ─────────────────────── v1.14.1\n",
            "\u001b[32m\u001b[1m   Installed\u001b[22m\u001b[39m TableTraits ───────────────── v1.0.1\n",
            "\u001b[32m\u001b[1m   Installed\u001b[22m\u001b[39m FFTW ──────────────────────── v1.8.0\n",
            "\u001b[32m\u001b[1m   Installed\u001b[22m\u001b[39m SpecialFunctions ──────────── v2.4.0\n",
            "\u001b[32m\u001b[1m   Installed\u001b[22m\u001b[39m BenchmarkTools ────────────── v1.5.0\n",
            "\u001b[32m\u001b[1m   Installed\u001b[22m\u001b[39m SentinelArrays ────────────── v1.4.7\n",
            "\u001b[32m\u001b[1m   Installed\u001b[22m\u001b[39m Tables ────────────────────── v1.12.0\n",
            "\u001b[32m\u001b[1m   Installed\u001b[22m\u001b[39m DistributedArrays ─────────── v0.6.7\n",
            "\u001b[32m\u001b[1m   Installed\u001b[22m\u001b[39m DataAPI ───────────────────── v1.16.0\n",
            "\u001b[32m\u001b[1m   Installed\u001b[22m\u001b[39m Unitful ───────────────────── v1.21.0\n",
            "\u001b[32m\u001b[1m   Installed\u001b[22m\u001b[39m CUDA_Driver_jll ───────────── v0.10.4+0\n",
            "\u001b[32m\u001b[1m   Installed\u001b[22m\u001b[39m LLVMLoopInfo ──────────────── v1.0.0\n",
            "\u001b[32m\u001b[1m   Installed\u001b[22m\u001b[39m GPUCompiler ───────────────── v0.27.8\n",
            "\u001b[32m\u001b[1m   Installed\u001b[22m\u001b[39m FixedPointNumbers ─────────── v0.8.5\n",
            "\u001b[32m\u001b[1m   Installed\u001b[22m\u001b[39m PooledArrays ──────────────── v1.4.3\n",
            "\u001b[32m\u001b[1m   Installed\u001b[22m\u001b[39m InlineStrings ─────────────── v1.4.2\n",
            "\u001b[32m\u001b[1m   Installed\u001b[22m\u001b[39m MKL_jll ───────────────────── v2024.2.0+0\n",
            "\u001b[32m\u001b[1m   Installed\u001b[22m\u001b[39m TimerOutputs ──────────────── v0.5.25\n",
            "\u001b[32m\u001b[1m   Installed\u001b[22m\u001b[39m Primes ────────────────────── v0.5.6\n",
            "\u001b[32m\u001b[1m   Installed\u001b[22m\u001b[39m Pidfile ───────────────────── v1.3.0\n",
            "\u001b[32m\u001b[1m   Installed\u001b[22m\u001b[39m AbstractFFTs ──────────────── v1.5.0\n",
            "\u001b[32m\u001b[1m   Installed\u001b[22m\u001b[39m StaticArrays ──────────────── v1.9.8\n",
            "\u001b[32m\u001b[1m   Installed\u001b[22m\u001b[39m micromamba_jll ────────────── v1.5.8+0\n",
            "\u001b[32m\u001b[1m   Installed\u001b[22m\u001b[39m StaticArraysCore ──────────── v1.4.3\n",
            "\u001b[32m\u001b[1m   Installed\u001b[22m\u001b[39m IteratorInterfaceExtensions ─ v1.0.0\n",
            "\u001b[32m\u001b[1m   Installed\u001b[22m\u001b[39m ConstructionBase ──────────── v1.5.8\n",
            "\u001b[32m\u001b[1m   Installed\u001b[22m\u001b[39m LLVMExtra_jll ─────────────── v0.0.34+0\n",
            "\u001b[32m\u001b[1m   Installed\u001b[22m\u001b[39m StructArrays ──────────────── v0.6.18\n",
            "\u001b[32m\u001b[1m   Installed\u001b[22m\u001b[39m DataValueInterfaces ───────── v1.0.0\n",
            "\u001b[32m\u001b[1m   Installed\u001b[22m\u001b[39m PythonPlot ────────────────── v1.0.5\n",
            "\u001b[32m\u001b[1m   Installed\u001b[22m\u001b[39m OrderedCollections ────────── v1.6.3\n",
            "\u001b[32m\u001b[1m   Installed\u001b[22m\u001b[39m LaTeXStrings ──────────────── v1.4.0\n",
            "\u001b[32m\u001b[1m   Installed\u001b[22m\u001b[39m UnsafeAtomicsLLVM ─────────── v0.2.1\n",
            "\u001b[32m\u001b[1m   Installed\u001b[22m\u001b[39m NVTX ──────────────────────── v0.3.5\n",
            "\u001b[32m\u001b[1m   Installed\u001b[22m\u001b[39m CUDA_Runtime_Discovery ────── v0.3.5\n",
            "\u001b[32m\u001b[1m   Installed\u001b[22m\u001b[39m InvertedIndices ───────────── v1.3.0\n",
            "\u001b[32m\u001b[1m   Installed\u001b[22m\u001b[39m CEnum ─────────────────────── v0.5.0\n",
            "\u001b[32m\u001b[1m   Installed\u001b[22m\u001b[39m GPUArrays ─────────────────── v10.3.1\n",
            "\u001b[32m\u001b[1m   Installed\u001b[22m\u001b[39m LazyGrids ─────────────────── v1.0.0\n",
            "\u001b[32m\u001b[1m   Installed\u001b[22m\u001b[39m Reexport ──────────────────── v1.2.2\n",
            "\u001b[32m\u001b[1m   Installed\u001b[22m\u001b[39m Random123 ─────────────────── v1.7.0\n",
            "\u001b[32m\u001b[1m   Installed\u001b[22m\u001b[39m NVTX_jll ──────────────────── v3.1.0+2\n",
            "\u001b[32m\u001b[1m   Installed\u001b[22m\u001b[39m DataFrames ────────────────── v1.7.0\n",
            "\u001b[32m\u001b[1m   Installed\u001b[22m\u001b[39m RandomNumbers ─────────────── v1.6.0\n",
            "\u001b[32m\u001b[1m   Installed\u001b[22m\u001b[39m DataStructures ────────────── v0.18.20\n",
            "\u001b[32m\u001b[1m   Installed\u001b[22m\u001b[39m BFloat16s ─────────────────── v0.5.0\n",
            "\u001b[32m\u001b[1m   Installed\u001b[22m\u001b[39m Colors ────────────────────── v0.12.11\n",
            "\u001b[32m\u001b[1m   Installed\u001b[22m\u001b[39m LogExpFunctions ───────────── v0.3.28\n",
            "\u001b[32m\u001b[1m   Installed\u001b[22m\u001b[39m Requires ──────────────────── v1.3.0\n",
            "\u001b[32m\u001b[1m   Installed\u001b[22m\u001b[39m JuliaNVTXCallbacks_jll ────── v0.2.1+0\n",
            "\u001b[32m\u001b[1m   Installed\u001b[22m\u001b[39m IntelOpenMP_jll ───────────── v2024.2.1+0\n",
            "\u001b[32m\u001b[1m   Installed\u001b[22m\u001b[39m ImagePhantoms ─────────────── v0.8.1\n",
            "\u001b[32m\u001b[1m   Installed\u001b[22m\u001b[39m ComputationalResources ────── v0.3.2\n",
            "\u001b[32m\u001b[1m   Installed\u001b[22m\u001b[39m MacroTools ────────────────── v0.5.13\n",
            "\u001b[32m\u001b[1m   Installed\u001b[22m\u001b[39m ExprTools ─────────────────── v0.1.10\n",
            "\u001b[32m\u001b[1m   Installed\u001b[22m\u001b[39m FFTW_jll ──────────────────── v3.3.10+1\n",
            "\u001b[32m\u001b[1m   Installed\u001b[22m\u001b[39m CUDA_Runtime_jll ──────────── v0.15.5+0\n",
            "\u001b[32m\u001b[1m   Installed\u001b[22m\u001b[39m KernelAbstractions ────────── v0.9.29\n",
            "\u001b[32m\u001b[1m   Installed\u001b[22m\u001b[39m UnsafePointers ────────────── v1.0.0\n",
            "\u001b[32m\u001b[1m   Installed\u001b[22m\u001b[39m OpenSpecFun_jll ───────────── v0.5.5+0\n",
            "\u001b[32m\u001b[1m   Installed\u001b[22m\u001b[39m UnsafeAtomics ─────────────── v0.2.1\n",
            "\u001b[32m\u001b[1m   Installed\u001b[22m\u001b[39m Compat ────────────────────── v4.16.0\n",
            "\u001b[32m\u001b[1m   Installed\u001b[22m\u001b[39m CondaPkg ──────────────────── v0.2.24\n",
            "\u001b[32m\u001b[1m   Installed\u001b[22m\u001b[39m Missings ──────────────────── v1.2.0\n",
            "\u001b[32m\u001b[1m   Installed\u001b[22m\u001b[39m StringManipulation ────────── v0.4.0\n",
            "\u001b[32m\u001b[1m   Installed\u001b[22m\u001b[39m SortingAlgorithms ─────────── v1.2.1\n",
            "\u001b[32m\u001b[1m   Installed\u001b[22m\u001b[39m Atomix ────────────────────── v0.1.0\n",
            "\u001b[32m\u001b[1m   Installed\u001b[22m\u001b[39m LLVM ──────────────────────── v9.1.3\n",
            "\u001b[32m\u001b[1m   Installed\u001b[22m\u001b[39m Unitless ──────────────────── v2.2.0\n",
            "\u001b[32m\u001b[1m   Installed\u001b[22m\u001b[39m StructTypes ───────────────── v1.11.0\n",
            "\u001b[32m\u001b[1m   Installed\u001b[22m\u001b[39m DocStringExtensions ───────── v0.9.3\n",
            "\u001b[32m\u001b[1m   Installed\u001b[22m\u001b[39m BlochSimulators ───────────── v0.6.4\n",
            "\u001b[32m\u001b[1m   Installed\u001b[22m\u001b[39m CUDA ──────────────────────── v5.5.2\n",
            "\u001b[32m\u001b[1m    Updating\u001b[22m\u001b[39m `~/.julia/environments/v1.10/Project.toml`\n",
            "  \u001b[90m[6e4b80f9] \u001b[39m\u001b[92m+ BenchmarkTools v1.5.0\u001b[39m\n",
            "  \u001b[90m[2c9a3a5d] \u001b[39m\u001b[92m+ BlochSimulators v0.6.4\u001b[39m\n",
            "  \u001b[90m[052768ef] \u001b[39m\u001b[92m+ CUDA v5.5.2\u001b[39m\n",
            "  \u001b[90m[ed09eef8] \u001b[39m\u001b[92m+ ComputationalResources v0.3.2\u001b[39m\n",
            "  \u001b[90m[7a1cc6ca] \u001b[39m\u001b[92m+ FFTW v1.8.0\u001b[39m\n",
            "  \u001b[90m[71a99df6] \u001b[39m\u001b[92m+ ImagePhantoms v0.8.1\u001b[39m\n",
            "  \u001b[90m[274fc56d] \u001b[39m\u001b[92m+ PythonPlot v1.0.5\u001b[39m\n",
            "  \u001b[90m[90137ffa] \u001b[39m\u001b[92m+ StaticArrays v1.9.8\u001b[39m\n",
            "\u001b[33m⌅\u001b[39m \u001b[90m[09ab397b] \u001b[39m\u001b[92m+ StructArrays v0.6.18\u001b[39m\n",
            "\u001b[32m\u001b[1m    Updating\u001b[22m\u001b[39m `~/.julia/environments/v1.10/Manifest.toml`\n",
            "  \u001b[90m[621f4979] \u001b[39m\u001b[92m+ AbstractFFTs v1.5.0\u001b[39m\n",
            "  \u001b[90m[79e6a3ab] \u001b[39m\u001b[92m+ Adapt v4.1.1\u001b[39m\n",
            "  \u001b[90m[a9b6321e] \u001b[39m\u001b[92m+ Atomix v0.1.0\u001b[39m\n",
            "  \u001b[90m[ab4f0b2a] \u001b[39m\u001b[92m+ BFloat16s v0.5.0\u001b[39m\n",
            "  \u001b[90m[6e4b80f9] \u001b[39m\u001b[92m+ BenchmarkTools v1.5.0\u001b[39m\n",
            "  \u001b[90m[2c9a3a5d] \u001b[39m\u001b[92m+ BlochSimulators v0.6.4\u001b[39m\n",
            "  \u001b[90m[fa961155] \u001b[39m\u001b[92m+ CEnum v0.5.0\u001b[39m\n",
            "  \u001b[90m[052768ef] \u001b[39m\u001b[92m+ CUDA v5.5.2\u001b[39m\n",
            "  \u001b[90m[1af6417a] \u001b[39m\u001b[92m+ CUDA_Runtime_Discovery v0.3.5\u001b[39m\n",
            "\u001b[33m⌅\u001b[39m \u001b[90m[3da002f7] \u001b[39m\u001b[92m+ ColorTypes v0.11.5\u001b[39m\n",
            "\u001b[33m⌅\u001b[39m \u001b[90m[5ae59095] \u001b[39m\u001b[92m+ Colors v0.12.11\u001b[39m\n",
            "  \u001b[90m[34da2185] \u001b[39m\u001b[92m+ Compat v4.16.0\u001b[39m\n",
            "  \u001b[90m[ed09eef8] \u001b[39m\u001b[92m+ ComputationalResources v0.3.2\u001b[39m\n",
            "  \u001b[90m[992eb4ea] \u001b[39m\u001b[92m+ CondaPkg v0.2.24\u001b[39m\n",
            "  \u001b[90m[187b0558] \u001b[39m\u001b[92m+ ConstructionBase v1.5.8\u001b[39m\n",
            "  \u001b[90m[a8cc5b0e] \u001b[39m\u001b[92m+ Crayons v4.1.1\u001b[39m\n",
            "  \u001b[90m[9a962f9c] \u001b[39m\u001b[92m+ DataAPI v1.16.0\u001b[39m\n",
            "  \u001b[90m[a93c6f00] \u001b[39m\u001b[92m+ DataFrames v1.7.0\u001b[39m\n",
            "  \u001b[90m[864edb3b] \u001b[39m\u001b[92m+ DataStructures v0.18.20\u001b[39m\n",
            "  \u001b[90m[e2d170a0] \u001b[39m\u001b[92m+ DataValueInterfaces v1.0.0\u001b[39m\n",
            "  \u001b[90m[aaf54ef3] \u001b[39m\u001b[92m+ DistributedArrays v0.6.7\u001b[39m\n",
            "  \u001b[90m[ffbed154] \u001b[39m\u001b[92m+ DocStringExtensions v0.9.3\u001b[39m\n",
            "  \u001b[90m[e2ba6199] \u001b[39m\u001b[92m+ ExprTools v0.1.10\u001b[39m\n",
            "  \u001b[90m[7a1cc6ca] \u001b[39m\u001b[92m+ FFTW v1.8.0\u001b[39m\n",
            "  \u001b[90m[53c48c17] \u001b[39m\u001b[92m+ FixedPointNumbers v0.8.5\u001b[39m\n",
            "\u001b[33m⌅\u001b[39m \u001b[90m[d9f16b24] \u001b[39m\u001b[92m+ Functors v0.4.12\u001b[39m\n",
            "\u001b[33m⌅\u001b[39m \u001b[90m[0c68f7d7] \u001b[39m\u001b[92m+ GPUArrays v10.3.1\u001b[39m\n",
            "\u001b[33m⌅\u001b[39m \u001b[90m[46192b85] \u001b[39m\u001b[92m+ GPUArraysCore v0.1.6\u001b[39m\n",
            "\u001b[33m⌅\u001b[39m \u001b[90m[61eb1bfa] \u001b[39m\u001b[92m+ GPUCompiler v0.27.8\u001b[39m\n",
            "  \u001b[90m[71a99df6] \u001b[39m\u001b[92m+ ImagePhantoms v0.8.1\u001b[39m\n",
            "  \u001b[90m[842dd82b] \u001b[39m\u001b[92m+ InlineStrings v1.4.2\u001b[39m\n",
            "  \u001b[90m[18e54dd8] \u001b[39m\u001b[92m+ IntegerMathUtils v0.1.2\u001b[39m\n",
            "  \u001b[90m[41ab1584] \u001b[39m\u001b[92m+ InvertedIndices v1.3.0\u001b[39m\n",
            "  \u001b[90m[92d709cd] \u001b[39m\u001b[92m+ IrrationalConstants v0.2.2\u001b[39m\n",
            "  \u001b[90m[82899510] \u001b[39m\u001b[92m+ IteratorInterfaceExtensions v1.0.0\u001b[39m\n",
            "  \u001b[90m[0f8b85d8] \u001b[39m\u001b[92m+ JSON3 v1.14.1\u001b[39m\n",
            "  \u001b[90m[63c18a36] \u001b[39m\u001b[92m+ KernelAbstractions v0.9.29\u001b[39m\n",
            "  \u001b[90m[929cbde3] \u001b[39m\u001b[92m+ LLVM v9.1.3\u001b[39m\n",
            "  \u001b[90m[8b046642] \u001b[39m\u001b[92m+ LLVMLoopInfo v1.0.0\u001b[39m\n",
            "  \u001b[90m[b964fa9f] \u001b[39m\u001b[92m+ LaTeXStrings v1.4.0\u001b[39m\n",
            "  \u001b[90m[7031d0ef] \u001b[39m\u001b[92m+ LazyGrids v1.0.0\u001b[39m\n",
            "  \u001b[90m[2ab3a3ac] \u001b[39m\u001b[92m+ LogExpFunctions v0.3.28\u001b[39m\n",
            "  \u001b[90m[1914dd2f] \u001b[39m\u001b[92m+ MacroTools v0.5.13\u001b[39m\n",
            "  \u001b[90m[0b3b1443] \u001b[39m\u001b[92m+ MicroMamba v0.1.14\u001b[39m\n",
            "  \u001b[90m[e1d29d7a] \u001b[39m\u001b[92m+ Missings v1.2.0\u001b[39m\n",
            "  \u001b[90m[5da4648a] \u001b[39m\u001b[92m+ NVTX v0.3.5\u001b[39m\n",
            "  \u001b[90m[6fe1bfb0] \u001b[39m\u001b[92m+ OffsetArrays v1.14.1\u001b[39m\n",
            "  \u001b[90m[bac558e1] \u001b[39m\u001b[92m+ OrderedCollections v1.6.3\u001b[39m\n",
            "  \u001b[90m[fa939f87] \u001b[39m\u001b[92m+ Pidfile v1.3.0\u001b[39m\n",
            "  \u001b[90m[2dfb63ee] \u001b[39m\u001b[92m+ PooledArrays v1.4.3\u001b[39m\n",
            "  \u001b[90m[08abe8d2] \u001b[39m\u001b[92m+ PrettyTables v2.4.0\u001b[39m\n",
            "  \u001b[90m[27ebfcd6] \u001b[39m\u001b[92m+ Primes v0.5.6\u001b[39m\n",
            "  \u001b[90m[6099a3de] \u001b[39m\u001b[92m+ PythonCall v0.9.23\u001b[39m\n",
            "  \u001b[90m[274fc56d] \u001b[39m\u001b[92m+ PythonPlot v1.0.5\u001b[39m\n",
            "  \u001b[90m[74087812] \u001b[39m\u001b[92m+ Random123 v1.7.0\u001b[39m\n",
            "  \u001b[90m[e6cf234a] \u001b[39m\u001b[92m+ RandomNumbers v1.6.0\u001b[39m\n",
            "  \u001b[90m[189a3867] \u001b[39m\u001b[92m+ Reexport v1.2.2\u001b[39m\n",
            "  \u001b[90m[ae029012] \u001b[39m\u001b[92m+ Requires v1.3.0\u001b[39m\n",
            "  \u001b[90m[6c6a2e73] \u001b[39m\u001b[92m+ Scratch v1.2.1\u001b[39m\n",
            "  \u001b[90m[91c51154] \u001b[39m\u001b[92m+ SentinelArrays v1.4.7\u001b[39m\n",
            "  \u001b[90m[a2af1166] \u001b[39m\u001b[92m+ SortingAlgorithms v1.2.1\u001b[39m\n",
            "  \u001b[90m[276daf66] \u001b[39m\u001b[92m+ SpecialFunctions v2.4.0\u001b[39m\n",
            "  \u001b[90m[90137ffa] \u001b[39m\u001b[92m+ StaticArrays v1.9.8\u001b[39m\n",
            "  \u001b[90m[1e83bf80] \u001b[39m\u001b[92m+ StaticArraysCore v1.4.3\u001b[39m\n",
            "  \u001b[90m[892a3eda] \u001b[39m\u001b[92m+ StringManipulation v0.4.0\u001b[39m\n",
            "\u001b[33m⌅\u001b[39m \u001b[90m[09ab397b] \u001b[39m\u001b[92m+ StructArrays v0.6.18\u001b[39m\n",
            "  \u001b[90m[856f2bd8] \u001b[39m\u001b[92m+ StructTypes v1.11.0\u001b[39m\n",
            "  \u001b[90m[3783bdb8] \u001b[39m\u001b[92m+ TableTraits v1.0.1\u001b[39m\n",
            "  \u001b[90m[bd369af6] \u001b[39m\u001b[92m+ Tables v1.12.0\u001b[39m\n",
            "  \u001b[90m[a759f4b9] \u001b[39m\u001b[92m+ TimerOutputs v0.5.25\u001b[39m\n",
            "  \u001b[90m[c3b1956e] \u001b[39m\u001b[92m+ TypeUtils v1.4.0\u001b[39m\n",
            "  \u001b[90m[1986cc42] \u001b[39m\u001b[92m+ Unitful v1.21.0\u001b[39m\n",
            "  \u001b[90m[c904d999] \u001b[39m\u001b[92m+ Unitless v2.2.0\u001b[39m\n",
            "  \u001b[90m[013be700] \u001b[39m\u001b[92m+ UnsafeAtomics v0.2.1\u001b[39m\n",
            "  \u001b[90m[d80eeb9a] \u001b[39m\u001b[92m+ UnsafeAtomicsLLVM v0.2.1\u001b[39m\n",
            "  \u001b[90m[e17b2a0c] \u001b[39m\u001b[92m+ UnsafePointers v1.0.0\u001b[39m\n",
            "  \u001b[90m[4ee394cb] \u001b[39m\u001b[92m+ CUDA_Driver_jll v0.10.4+0\u001b[39m\n",
            "  \u001b[90m[76a88914] \u001b[39m\u001b[92m+ CUDA_Runtime_jll v0.15.5+0\u001b[39m\n",
            "  \u001b[90m[f5851436] \u001b[39m\u001b[92m+ FFTW_jll v3.3.10+1\u001b[39m\n",
            "  \u001b[90m[1d5cc7b8] \u001b[39m\u001b[92m+ IntelOpenMP_jll v2024.2.1+0\u001b[39m\n",
            "  \u001b[90m[9c1d0b0a] \u001b[39m\u001b[92m+ JuliaNVTXCallbacks_jll v0.2.1+0\u001b[39m\n",
            "  \u001b[90m[dad2f222] \u001b[39m\u001b[92m+ LLVMExtra_jll v0.0.34+0\u001b[39m\n",
            "  \u001b[90m[856f044c] \u001b[39m\u001b[92m+ MKL_jll v2024.2.0+0\u001b[39m\n",
            "  \u001b[90m[e98f9f5b] \u001b[39m\u001b[92m+ NVTX_jll v3.1.0+2\u001b[39m\n",
            "  \u001b[90m[efe28fd5] \u001b[39m\u001b[92m+ OpenSpecFun_jll v0.5.5+0\u001b[39m\n",
            "  \u001b[90m[1e29f10c] \u001b[39m\u001b[92m+ demumble_jll v1.3.0+0\u001b[39m\n",
            "  \u001b[90m[f8abcde7] \u001b[39m\u001b[92m+ micromamba_jll v1.5.8+0\u001b[39m\n",
            "  \u001b[90m[1317d2d5] \u001b[39m\u001b[92m+ oneTBB_jll v2021.12.0+0\u001b[39m\n",
            "  \u001b[90m[8ba89e20] \u001b[39m\u001b[92m+ Distributed\u001b[39m\n",
            "  \u001b[90m[9fa8497b] \u001b[39m\u001b[92m+ Future\u001b[39m\n",
            "  \u001b[90m[4af54fe1] \u001b[39m\u001b[92m+ LazyArtifacts\u001b[39m\n",
            "  \u001b[90m[37e2e46d] \u001b[39m\u001b[92m+ LinearAlgebra\u001b[39m\n",
            "  \u001b[90m[9abbd945] \u001b[39m\u001b[92m+ Profile\u001b[39m\n",
            "  \u001b[90m[2f01184e] \u001b[39m\u001b[92m+ SparseArrays v1.10.0\u001b[39m\n",
            "  \u001b[90m[10745b16] \u001b[39m\u001b[92m+ Statistics v1.10.0\u001b[39m\n",
            "  \u001b[90m[e66e0078] \u001b[39m\u001b[92m+ CompilerSupportLibraries_jll v1.1.1+0\u001b[39m\n",
            "  \u001b[90m[4536629a] \u001b[39m\u001b[92m+ OpenBLAS_jll v0.3.23+4\u001b[39m\n",
            "  \u001b[90m[05823500] \u001b[39m\u001b[92m+ OpenLibm_jll v0.8.1+2\u001b[39m\n",
            "  \u001b[90m[bea87d4a] \u001b[39m\u001b[92m+ SuiteSparse_jll v7.2.1+1\u001b[39m\n",
            "  \u001b[90m[8e850b90] \u001b[39m\u001b[92m+ libblastrampoline_jll v5.11.0+0\u001b[39m\n",
            "\u001b[36m\u001b[1m        Info\u001b[22m\u001b[39m Packages marked with \u001b[33m⌅\u001b[39m have new versions available but compatibility constraints restrict them from upgrading. To see why use `status --outdated -m`\n",
            "\u001b[32m\u001b[1mPrecompiling\u001b[22m\u001b[39m project...\n",
            "\u001b[32m  ✓ \u001b[39m\u001b[90mLLVMLoopInfo\u001b[39m\n",
            "\u001b[32m  ✓ \u001b[39m\u001b[90mCompat\u001b[39m\n",
            "\u001b[32m  ✓ \u001b[39m\u001b[90mOrderedCollections\u001b[39m\n",
            "\u001b[32m  ✓ \u001b[39m\u001b[90mRequires\u001b[39m\n",
            "\u001b[32m  ✓ \u001b[39m\u001b[90mIntegerMathUtils\u001b[39m\n",
            "\u001b[32m  ✓ \u001b[39m\u001b[90mSentinelArrays\u001b[39m\n",
            "\u001b[32m  ✓ \u001b[39m\u001b[90mStructTypes\u001b[39m\n",
            "\u001b[32m  ✓ \u001b[39m\u001b[90mDataValueInterfaces\u001b[39m\n",
            "\u001b[32m  ✓ \u001b[39m\u001b[90mLaTeXStrings\u001b[39m\n",
            "\u001b[32m  ✓ \u001b[39m\u001b[90mInvertedIndices\u001b[39m\n",
            "\u001b[32m  ✓ \u001b[39m\u001b[90mAbstractFFTs\u001b[39m\n",
            "\u001b[32m  ✓ \u001b[39m\u001b[90mReexport\u001b[39m\n",
            "\u001b[32m  ✓ \u001b[39m\u001b[90mDocStringExtensions\u001b[39m\n",
            "\u001b[32m  ✓ \u001b[39m\u001b[90mInlineStrings\u001b[39m\n",
            "\u001b[32m  ✓ \u001b[39m\u001b[90mExprTools\u001b[39m\n",
            "\u001b[32m  ✓ \u001b[39m\u001b[90mConstructionBase\u001b[39m\n",
            "\u001b[32m  ✓ \u001b[39m\u001b[90mUnsafePointers\u001b[39m\n",
            "\u001b[32m  ✓ \u001b[39m\u001b[90mIteratorInterfaceExtensions\u001b[39m\n",
            "\u001b[32m  ✓ \u001b[39m\u001b[90mIrrationalConstants\u001b[39m\n",
            "\u001b[32m  ✓ \u001b[39m\u001b[90mDataAPI\u001b[39m\n",
            "\u001b[32m  ✓ \u001b[39m\u001b[90mCompilerSupportLibraries_jll\u001b[39m\n",
            "\u001b[32m  ✓ \u001b[39mComputationalResources\n",
            "\u001b[32m  ✓ \u001b[39m\u001b[90mUnsafeAtomics\u001b[39m\n",
            "\u001b[32m  ✓ \u001b[39m\u001b[90mCrayons\u001b[39m\n",
            "\u001b[32m  ✓ \u001b[39m\u001b[90mScratch\u001b[39m\n",
            "\u001b[32m  ✓ \u001b[39m\u001b[90mCEnum\u001b[39m\n",
            "\u001b[32m  ✓ \u001b[39m\u001b[90mRandomNumbers\u001b[39m\n",
            "\u001b[32m  ✓ \u001b[39m\u001b[90mMacroTools\u001b[39m\n"
          ]
        }
      ]
    },
    {
      "cell_type": "code",
      "execution_count": null,
      "id": "e5475b72-0c64-4a46-a37b-9e05ba8f134c",
      "metadata": {
        "id": "e5475b72-0c64-4a46-a37b-9e05ba8f134c"
      },
      "outputs": [],
      "source": [
        "# Load the necessary packages for this notebook\n",
        "using BlochSimulators\n",
        "using ComputationalResources\n",
        "using StructArrays"
      ]
    },
    {
      "cell_type": "markdown",
      "id": "a83bdc1f-e226-4dc3-b8ab-55e70ae489f2",
      "metadata": {
        "id": "a83bdc1f-e226-4dc3-b8ab-55e70ae489f2"
      },
      "source": [
        "## Simulation setup"
      ]
    },
    {
      "cell_type": "code",
      "execution_count": null,
      "id": "ab769466-629b-4ce4-9dae-8283bc290d7d",
      "metadata": {
        "id": "ab769466-629b-4ce4-9dae-8283bc290d7d"
      },
      "outputs": [],
      "source": [
        "# Now construct a FISP sequence struct (see `src/sequences/fisp.jl`\n",
        "# for which fields are necessary and which constructors exist)\n",
        "\n",
        "nTR = 1000; # nr of TRs used in the simulation\n",
        "RF_train = LinRange(1, 90, nTR) |> collect; # flip angle train\n",
        "TR, TE, TI = 0.010, 0.005, 0.100; # repetition time, echo time, inversion delay\n",
        "max_state = 64; # maximum number of configuration states to keep track of\n",
        "\n",
        "sequence = FISP2D(RF_train, TR, TE, max_state, TI);"
      ]
    },
    {
      "cell_type": "code",
      "execution_count": null,
      "id": "f63f113e-dfba-4638-9386-b75f7d493bc4",
      "metadata": {
        "id": "f63f113e-dfba-4638-9386-b75f7d493bc4"
      },
      "outputs": [],
      "source": [
        "# Next, set the desired input tissue properties for which the\n",
        "# FISP sequence response will be simulated\n",
        "T₁_range = logrange(0.1, 5.0, 50); # T₁ range\n",
        "T₂_range = logrange(0.025, 0.5, 50); # T₂ range\n",
        "\n",
        "# Generate valid combinations of T₁ and T₂ and store them in custom T₁T₂ struct\n",
        "parameters = ([T₁T₂(T₁,T₂) for T₁ ∈ T₁_range, T₂ ∈ T₂_range if T₁ > T₂]);\n",
        "\n",
        "println(\"Length parameters: $(length(parameters))\")\n",
        "\n",
        "# Now we can perform the simulations using different hardware resources"
      ]
    },
    {
      "cell_type": "markdown",
      "id": "0d6f3266-605a-4d22-88ce-de400d476ec7",
      "metadata": {
        "id": "0d6f3266-605a-4d22-88ce-de400d476ec7"
      },
      "source": [
        "## Single-threaded CPU"
      ]
    },
    {
      "cell_type": "code",
      "execution_count": null,
      "id": "b3b8dd8b-3849-4cb0-a824-b8bab39c06a9",
      "metadata": {
        "id": "b3b8dd8b-3849-4cb0-a824-b8bab39c06a9"
      },
      "outputs": [],
      "source": [
        "# Note that the first time a function is called in a Julia session,\n",
        "# a precompilation procedure starts and the runtime for subsequent function\n",
        "# calls are significantly faster\n",
        "@time dictionary = simulate_magnetization(CPU1(), sequence, parameters);"
      ]
    },
    {
      "cell_type": "code",
      "execution_count": null,
      "id": "8dad6f37-080e-49dc-987f-5fadf85c934e",
      "metadata": {
        "id": "8dad6f37-080e-49dc-987f-5fadf85c934e"
      },
      "outputs": [],
      "source": [
        "# The second time a function is called with arguments of similar types,\n",
        "# the pre-compiled version is called immediatly.\n",
        "@time dictionary = simulate_magnetization(CPU1(), sequence, parameters);"
      ]
    },
    {
      "cell_type": "code",
      "execution_count": null,
      "id": "fd0a41c8-46d3-4d33-9abc-6e4b2f957d4d",
      "metadata": {
        "id": "fd0a41c8-46d3-4d33-9abc-6e4b2f957d4d"
      },
      "outputs": [],
      "source": [
        "# Note that the dictionary is a matrix with the magnetization response (at echo times)\n",
        "# for all combinations of input tissue properties\n",
        "@assert size(dictionary) == (nTR, length(parameters))"
      ]
    },
    {
      "cell_type": "markdown",
      "id": "e9d0575e-42fd-4015-a272-57aff4f7da9c",
      "metadata": {
        "id": "e9d0575e-42fd-4015-a272-57aff4f7da9c"
      },
      "source": [
        "## Multi-threaded CPU"
      ]
    },
    {
      "cell_type": "code",
      "execution_count": null,
      "id": "935c8e07-c16a-4f3a-891d-d0b3674130c6",
      "metadata": {
        "id": "935c8e07-c16a-4f3a-891d-d0b3674130c6"
      },
      "outputs": [],
      "source": [
        "# To use multiple threads, Julia must be started with the `--threads=auto`\n",
        "# flag (or some integer instead of `auto`). Alternatively, set the\n",
        "# environent variable `JULIA_NUM_THREADS` to the desired number of threads\n",
        "# in your shell before starting Julia.\n",
        "\n",
        "# Check the number of available threads\n",
        "println(\"Current number of threads: $(Threads.nthreads())\")"
      ]
    },
    {
      "cell_type": "code",
      "execution_count": null,
      "id": "a940a772-ae01-4757-a248-61ad1d454a2a",
      "metadata": {
        "id": "a940a772-ae01-4757-a248-61ad1d454a2a"
      },
      "outputs": [],
      "source": [
        "# We can simulate in a multi-threaded fashion with the following syntax:\n",
        "@time dictionary = simulate_magnetization(CPUThreads(), sequence, parameters);"
      ]
    },
    {
      "cell_type": "code",
      "execution_count": null,
      "id": "cdfcbe7d-8cd7-4f50-b4d4-a257e0d603d6",
      "metadata": {
        "id": "cdfcbe7d-8cd7-4f50-b4d4-a257e0d603d6"
      },
      "outputs": [],
      "source": [
        "# In fact, BlochSimulators defaults to using CPUThreads() so we can also call\n",
        "@time dictionary = simulate_magnetization(sequence, parameters);"
      ]
    },
    {
      "cell_type": "markdown",
      "id": "cd5dc657-ad95-477f-a87b-1efcc6827e10",
      "metadata": {
        "id": "cd5dc657-ad95-477f-a87b-1efcc6827e10"
      },
      "source": [
        "## Distributed CPU"
      ]
    },
    {
      "cell_type": "code",
      "execution_count": null,
      "id": "e0262b61-1752-4635-bf8f-0930b9c7f747",
      "metadata": {
        "id": "e0262b61-1752-4635-bf8f-0930b9c7f747"
      },
      "outputs": [],
      "source": [
        "# For distributed CPU mode, use the Distribute packages (ships with Julia)\n",
        "# to add workers first\n",
        "\n",
        "using Distributed\n",
        "addprocs(4, exeflags=\"--project=.\")\n",
        "\n",
        "# Alternatively, if you can ssh into some other machine,\n",
        "# you can add CPUs from that machine as follows:\n",
        "# addprocs([(\"12.345.67.89\", 4)], exeflags=\"--project=.\")\n",
        "\n",
        "# Or, if you want to run this code on cluster with a queuing system, use ClusterManagers package.\n",
        "#\n",
        "# After workers have been added, load BlochSimulators on all workers\n",
        "# and then start a distributed dictionary generation with:\n",
        "@everywhere using BlochSimulators\n",
        "\n",
        "println(\"Current number of workers: $(nworkers())\")\n",
        "@time dictionary = simulate_magnetization(CPUProcesses(), sequence, parameters);"
      ]
    },
    {
      "cell_type": "markdown",
      "id": "186dc3ce-16d7-43df-9075-586183cc35c3",
      "metadata": {
        "id": "186dc3ce-16d7-43df-9075-586183cc35c3"
      },
      "source": [
        "## GPU (CUDA device)"
      ]
    },
    {
      "cell_type": "code",
      "execution_count": null,
      "id": "f5993283-ae45-4ec3-adfa-28ca35ac27e3",
      "metadata": {
        "id": "f5993283-ae45-4ec3-adfa-28ca35ac27e3"
      },
      "outputs": [],
      "source": [
        "# First, let's check if a CUDA device is available\n",
        "println(\"Active CUDA device:\");\n",
        "BlochSimulators.CUDA.device();\n",
        "\n",
        "# To perform simulations on GPU, we first convert the sequence and parameters\n",
        "# to single precision and then send them to the gpu. To this end, BlochSimulators\n",
        "# exports a `f32` function which recursively converts inputs to single precision.\n",
        "# Similarly, a `gpu` function is exported which sends the input to the GPU.\n",
        "\n",
        "cu_sequence = sequence |> f32 |> gpu;\n",
        "cu_parameters = parameters |> f32 |> gpu;\n",
        "\n",
        "# Remember, the first time a compilation procedure takes place which, especially\n",
        "# on GPU, can take some time.\n",
        "CUDA.@time dictionary = simulate_magnetization(CUDALibs(), cu_sequence, cu_parameters);"
      ]
    },
    {
      "cell_type": "code",
      "source": [
        "# Call the pre-compiled version, it should be a lot faster\n",
        "CUDA.@time dictionary = simulate_magnetization(CUDALibs(), cu_sequence, cu_parameters);"
      ],
      "metadata": {
        "id": "jayVqPYML5s2"
      },
      "id": "jayVqPYML5s2",
      "execution_count": null,
      "outputs": []
    },
    {
      "cell_type": "code",
      "source": [
        "# Now let's increase the number of tissue property combinations for which\n",
        "# simulations are performed:\n",
        "T₁ = rand(500_000)\n",
        "T₂ = 0.1 * T₁\n",
        "cu_parameters = (@parameters T₁ T₂) |> f32 |> gpu\n",
        "\n",
        "CUDA.@time dictionary = simulate_magnetization(CUDALibs(), cu_sequence, cu_parameters);"
      ],
      "metadata": {
        "id": "0S_vWa5hL51x"
      },
      "id": "0S_vWa5hL51x",
      "execution_count": null,
      "outputs": []
    }
  ],
  "metadata": {
    "kernelspec": {
      "display_name": "Julia 1.10.6",
      "name": "julia-1.10"
    },
    "colab": {
      "provenance": [],
      "toc_visible": true
    }
  },
  "nbformat": 4,
  "nbformat_minor": 5
}