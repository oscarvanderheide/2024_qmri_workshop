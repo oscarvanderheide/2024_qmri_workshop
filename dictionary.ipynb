{
 "cells": [
  {
   "cell_type": "markdown",
   "id": "790542f8-21b2-4a41-afee-82ce18674885",
   "metadata": {},
   "source": [
    "# MR Fingerprinting Dictionary Generation\n",
    "\n",
    "In this example we demonstrate how to generate an MR Fingerprinting dictionary using a FISP type sequence"
   ]
  },
  {
   "cell_type": "code",
   "execution_count": null,
   "id": "e5475b72-0c64-4a46-a37b-9e05ba8f134c",
   "metadata": {},
   "outputs": [],
   "source": [
    "# First, activate the environment and load the necessary packages\n",
    "using BlochSimulators\n",
    "using ComputationalResources\n",
    "using StructArrays"
   ]
  },
  {
   "cell_type": "markdown",
   "id": "a83bdc1f-e226-4dc3-b8ab-55e70ae489f2",
   "metadata": {},
   "source": [
    "## Simulation setup "
   ]
  },
  {
   "cell_type": "code",
   "execution_count": null,
   "id": "ab769466-629b-4ce4-9dae-8283bc290d7d",
   "metadata": {},
   "outputs": [],
   "source": [
    "# Now construct a FISP sequence struct (see `src/sequences/fisp.jl`\n",
    "# for which fields are necessary and which constructors exist)\n",
    "\n",
    "nTR = 1000; # nr of TRs used in the simulation\n",
    "RF_train = LinRange(1, 90, nTR) |> collect; # flip angle train\n",
    "TR, TE, TI = 0.010, 0.005, 0.100; # repetition time, echo time, inversion delay\n",
    "max_state = 64; # maximum number of configuration states to keep track of\n",
    "\n",
    "sequence = FISP2D(RF_train, TR, TE, max_state, TI);"
   ]
  },
  {
   "cell_type": "code",
   "execution_count": null,
   "id": "f63f113e-dfba-4638-9386-b75f7d493bc4",
   "metadata": {},
   "outputs": [],
   "source": [
    "# Next, set the desired input tissue properties for which the \n",
    "# FISP sequence response will be simulated\n",
    "T₁_range = logrange(0.1, 5.0, 50); # T₁ range\n",
    "T₂_range = logrange(0.025, 0.5, 50); # T₂ range\n",
    "\n",
    "# Generate valid combinations of T₁ and T₂ and store them in custom T₁T₂ struct\n",
    "parameters = ([T₁T₂(T₁,T₂) for T₁ ∈ T₁_range, T₂ ∈ T₂_range if T₁ > T₂]);\n",
    "\n",
    "println(\"Length parameters: $(length(parameters))\")\n",
    "\n",
    "# Now we can perform the simulations using different hardware resources"
   ]
  },
  {
   "cell_type": "markdown",
   "id": "0d6f3266-605a-4d22-88ce-de400d476ec7",
   "metadata": {},
   "source": [
    "## Single-threaded CPU"
   ]
  },
  {
   "cell_type": "code",
   "execution_count": null,
   "id": "b3b8dd8b-3849-4cb0-a824-b8bab39c06a9",
   "metadata": {},
   "outputs": [],
   "source": [
    "# Note that the first time a function is called in a Julia session,\n",
    "# a precompilation procedure starts and the runtime for subsequent function\n",
    "# calls are significantly faster\n",
    "@time dictionary = simulate_magnetization(CPU1(), sequence, parameters);"
   ]
  },
  {
   "cell_type": "code",
   "execution_count": null,
   "id": "8dad6f37-080e-49dc-987f-5fadf85c934e",
   "metadata": {},
   "outputs": [],
   "source": [
    "# The second time a function is called with arguments of similar types, \n",
    "# the pre-compiled version is called immediatly.\n",
    "@time dictionary = simulate_magnetization(CPU1(), sequence, parameters);"
   ]
  },
  {
   "cell_type": "code",
   "execution_count": null,
   "id": "fd0a41c8-46d3-4d33-9abc-6e4b2f957d4d",
   "metadata": {},
   "outputs": [],
   "source": [
    "# Note that the dictionary is a matrix with the magnetization response (at echo times) \n",
    "# for all combinations of input tissue properties\n",
    "@assert size(dictionary) == (nTR, length(parameters))"
   ]
  },
  {
   "cell_type": "markdown",
   "id": "e9d0575e-42fd-4015-a272-57aff4f7da9c",
   "metadata": {},
   "source": [
    "## Multi-threaded CPU"
   ]
  },
  {
   "cell_type": "code",
   "execution_count": null,
   "id": "935c8e07-c16a-4f3a-891d-d0b3674130c6",
   "metadata": {},
   "outputs": [],
   "source": [
    "# To use multiple threads, Julia must be started with the `--threads=auto`\n",
    "# flag (or some integer instead of `auto`). Alternatively, set the \n",
    "# environent variable `JULIA_NUM_THREADS` to the desired number of threads\n",
    "# in your shell before starting Julia.\n",
    "\n",
    "# Check the number of available threads\n",
    "println(\"Current number of threads: $(Threads.nthreads())\")"
   ]
  },
  {
   "cell_type": "code",
   "execution_count": null,
   "id": "a940a772-ae01-4757-a248-61ad1d454a2a",
   "metadata": {},
   "outputs": [],
   "source": [
    "# We can simulate in a multi-threaded fashion with the following syntax:\n",
    "@time dictionary = simulate_magnetization(CPUThreads(), sequence, parameters);"
   ]
  },
  {
   "cell_type": "code",
   "execution_count": null,
   "id": "cdfcbe7d-8cd7-4f50-b4d4-a257e0d603d6",
   "metadata": {},
   "outputs": [],
   "source": [
    "# In fact, BlochSimulators defaults to using CPUThreads() so we can also call\n",
    "@time dictionary = simulate_magnetization(sequence, parameters);"
   ]
  },
  {
   "cell_type": "markdown",
   "id": "cd5dc657-ad95-477f-a87b-1efcc6827e10",
   "metadata": {},
   "source": [
    "## Distributed CPU"
   ]
  },
  {
   "cell_type": "code",
   "execution_count": null,
   "id": "e0262b61-1752-4635-bf8f-0930b9c7f747",
   "metadata": {},
   "outputs": [],
   "source": [
    "# For distributed CPU mode, use the Distribute packages (ships with Julia)\n",
    "# to add workers first\n",
    "\n",
    "using Distributed\n",
    "addprocs(4, exeflags=\"--project=.\")\n",
    "\n",
    "# Alternatively, if you can ssh into some other machine,\n",
    "# you can add CPUs from that machine as follows:\n",
    "# addprocs([(\"12.345.67.89\", 4)], exeflags=\"--project=.\")\n",
    "\n",
    "# Or, if you want to run this code on cluster with a queuing system, use ClusterManagers package.\n",
    "#\n",
    "# After workers have been added, load BlochSimulators on all workers\n",
    "# and then start a distributed dictionary generation with:\n",
    "@everywhere using BlochSimulators\n",
    "\n",
    "println(\"Current number of workers: $(nworkers())\")\n",
    "@time dictionary = simulate_magnetization(CPUProcesses(), sequence, parameters);"
   ]
  },
  {
   "cell_type": "markdown",
   "id": "186dc3ce-16d7-43df-9075-586183cc35c3",
   "metadata": {},
   "source": [
    "## GPU (CUDA device)"
   ]
  },
  {
   "cell_type": "code",
   "execution_count": null,
   "id": "f5993283-ae45-4ec3-adfa-28ca35ac27e3",
   "metadata": {},
   "outputs": [],
   "source": [
    "# First, let's check if a CUDA device is available\n",
    "println(\"Active CUDA device:\");\n",
    "BlochSimulators.CUDA.device();\n",
    "\n",
    "# To perform simulations on GPU, we first convert the sequence and parameters\n",
    "# to single precision and then send them to the gpu. To this end, BlochSimulators \n",
    "# exports a `f32` function which recursively converts inputs to single precision.\n",
    "# Similarly, a `gpu` function is exported which sends the input to the GPU.\n",
    "\n",
    "cu_sequence = sequence |> f32 |> gpu;\n",
    "cu_parameters = parameters |> f32 |> gpu;\n",
    "\n",
    "# Remember, the first time a compilation procedure takes place which, especially\n",
    "# on GPU, can take some time.\n",
    "CUDA.@time dictionary = simulate_magnetization(CUDALibs(), cu_sequence, cu_parameters);\n",
    "\n",
    "# Call the pre-compiled version, it should be a lot faster\n",
    "CUDA.@time dictionary = simulate_magnetization(CUDALibs(), cu_sequence, cu_parameters);\n",
    "\n",
    "# Now let's increase the number of tissue property combinations for which \n",
    "# simulations are performed:\n",
    "T₁ = rand(500_000)\n",
    "T₂ = 0.1 * T₁\n",
    "cu_parameters = (@parameters T₁ T₂) |> f32 |> gpu\n",
    "\n",
    "CUDA.@time dictionary = simulate_magnetization(CUDALibs(), cu_sequence, cu_parameters);"
   ]
  }
 ],
 "metadata": {
  "kernelspec": {
   "display_name": "Julia 1.11.1",
   "language": "julia",
   "name": "julia-1.11"
  },
  "language_info": {
   "file_extension": ".jl",
   "mimetype": "application/julia",
   "name": "julia",
   "version": "1.11.1"
  }
 },
 "nbformat": 4,
 "nbformat_minor": 5
}
