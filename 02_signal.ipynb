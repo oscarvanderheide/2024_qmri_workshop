{
 "cells": [
  {
   "cell_type": "markdown",
   "id": "5652b529-d7bf-4d13-a6cb-0d4244aa5ad3",
   "metadata": {
    "id": "5652b529-d7bf-4d13-a6cb-0d4244aa5ad3"
   },
   "source": [
    "# Simulate MR Signal for a transient-state, gradient-balanced sequence with a Cartesian k-space trajectory\n",
    "\n",
    "In this example we are going to generate a phantom\n",
    "and simulate the signal for a gradient-balanced sequence\n",
    "with a Cartesian gradient trajectory"
   ]
  },
  {
   "cell_type": "code",
   "execution_count": null,
   "id": "96c4b3cd-6863-436b-90a3-b1937e491bc1",
   "metadata": {
    "id": "96c4b3cd-6863-436b-90a3-b1937e491bc1"
   },
   "outputs": [],
   "source": [
    "using BlochSimulators\n",
    "using ComputationalResources\n",
    "using StaticArrays\n",
    "using LinearAlgebra\n",
    "using PythonPlot\n",
    "using FFTW\n",
    "import ImagePhantoms"
   ]
  },
  {
   "cell_type": "code",
   "execution_count": null,
   "id": "89d57a61-570c-435c-875c-6d60fb861b74",
   "metadata": {
    "id": "89d57a61-570c-435c-875c-6d60fb861b74"
   },
   "outputs": [],
   "source": [
    "# First we assemble a Shepp Logan phantom with homogeneous T₁ and T₂\n",
    "# but non-constant proton density and B₀\n",
    "N = 256\n",
    "ρ = complex.(ImagePhantoms.shepp_logan(N, ImagePhantoms.SheppLoganEmis())');\n",
    "ρˣ = real.(ρ)\n",
    "ρʸ = imag.(ρ)\n",
    "T₁ = fill(0.85, N, N);\n",
    "T₂ = fill(0.05, N, N);\n",
    "B₀ = repeat(1:N, 1, N);\n",
    "\n",
    "# Assemble the phantom (as a `StructArray` of `T₁T₂B₀ρˣρʸ` values)\n",
    "# using the @parameters macro from BlochSimulators\n",
    "parameters = @parameters T₁ T₂ B₀ ρˣ ρʸ"
   ]
  },
  {
   "cell_type": "code",
   "execution_count": null,
   "id": "c375a79d-2e52-4c8e-bf17-b81931c84382",
   "metadata": {
    "id": "c375a79d-2e52-4c8e-bf17-b81931c84382"
   },
   "outputs": [],
   "source": [
    "# We also set the spatial coordinates for the phantom\n",
    "FOVˣ, FOVʸ = 25.6, 25.6;\n",
    "X = LinRange(-FOVˣ / 2, FOVˣ / 2, N) # [x for x ∈ LinRange(-FOVˣ / 2, FOVˣ / 2, N), y ∈ 1:N];\n",
    "Y = LinRange(-FOVʸ / 2, FOVʸ / 2, N) # [y for x ∈ 1:N, y ∈ LinRange(-FOVʸ / 2, FOVʸ / 2, N)];\n",
    "Z = LinRange(0, 0, 1)\n",
    "\n",
    "# Use the `@coordinates` macro from BlochSimulators to assemble the coordinates in the right format\n",
    "coordinates = @coordinates X Y Z"
   ]
  },
  {
   "cell_type": "code",
   "execution_count": null,
   "id": "f3c3c7ae-6fd1-49ba-adda-6ff0126f3e1e",
   "metadata": {
    "id": "f3c3c7ae-6fd1-49ba-adda-6ff0126f3e1e"
   },
   "outputs": [],
   "source": [
    "# Next, we assemble a balanced sequence with constant flip angle of 60 degrees,\n",
    "# a TR of 10 ms and 0-π phase cycling. See `src/sequences/pssfp.jl` for the\n",
    "# sequence description and the fields for which values must be provided\n",
    "\n",
    "nTR = N\n",
    "RF_train = complex.(fill(90.0, nTR)) # constant flip angle train\n",
    "RF_train[2:2:end] .*= -1 # 0-π phase cycling\n",
    "nRF = 25 # nr of RF discretization points\n",
    "durRF = 0.001 # duration of RF excitation\n",
    "TR = 0.010 # repetition time\n",
    "TI = 20.0 # long inversion delay -> no inversion\n",
    "gaussian = [exp(-(i - (nRF / 2))^2 * inv(nRF)) for i ∈ 1:nRF] # RF excitation waveform\n",
    "γΔtRF = (π / 180) * normalize(gaussian, 1) |> SVector{nRF} # normalize to flip angle of 1 degree\n",
    "Δt = (ex=durRF / nRF, inv=TI, pr=(TR - durRF) / 2); # time intervals during TR\n",
    "γΔtGRz = (ex=0.002 / nRF, inv=0.00, pr=-0.01); # slice select gradient strengths during TR\n",
    "nz = 35 # nr of spins in z direction\n",
    "z = SVector{nz}(LinRange(-1, 1, nz)) # z locations\n",
    "\n",
    "sequence = pSSFP2D(RF_train, TR, γΔtRF, Δt, γΔtGRz, z)"
   ]
  },
  {
   "cell_type": "code",
   "execution_count": null,
   "id": "a57b9a97-20dd-4489-98ad-12ab2b06324d",
   "metadata": {
    "id": "a57b9a97-20dd-4489-98ad-12ab2b06324d"
   },
   "outputs": [],
   "source": [
    "# Next, we assemble a 2D Cartesian trajectory with linear phase encoding\n",
    "# (see `src/trajectories/cartesian.jl`).\n",
    "\n",
    "nr = nTR # nr of readouts\n",
    "ns = N # nr of samples per readout\n",
    "Δt_adc = 10^-5 # time between sample points\n",
    "py = -(N ÷ 2):1:(N÷2)-1 # phase encoding indices\n",
    "py = repeat(py, nr ÷ N)\n",
    "Δkˣ = 2π / FOVˣ; # k-space step in x direction for Nyquist sampling\n",
    "Δkʸ = 2π / FOVʸ; # k-space step in y direction for Nyquist sampling\n",
    "k0 = [(-ns / 2 * Δkˣ) + im * (py[r] * Δkʸ) for r in 1:nr]; # starting points in k-space per readout\n",
    "\n",
    "trajectory = CartesianTrajectory2D(nr, ns, Δt_adc, k0, Δkˣ, py, 1)"
   ]
  },
  {
   "cell_type": "code",
   "execution_count": null,
   "id": "04c27ed5-44bc-463c-8334-4231cf7f4967",
   "metadata": {
    "id": "04c27ed5-44bc-463c-8334-4231cf7f4967"
   },
   "outputs": [],
   "source": [
    "# We use two different receive coils during the simulations\n",
    "coil₁ = complex.(repeat(LinRange(0.5, 1.0, N), 1, N));\n",
    "coil₂ = coil₁';\n",
    "\n",
    "coil_sensitivities = [vec(coil₁) ;; vec(coil₂)]"
   ]
  },
  {
   "cell_type": "code",
   "execution_count": null,
   "id": "4b83f887-5ed4-469b-8ec1-0249fc9b4a23",
   "metadata": {
    "id": "4b83f887-5ed4-469b-8ec1-0249fc9b4a23"
   },
   "outputs": [],
   "source": [
    "# Now we want to simulate the signal for the sequence, trajectory, phantom and coils on GPU\n",
    "\n",
    "# Specify the resource\n",
    "resource = CUDALibs()\n",
    "\n",
    "# Convert all objects to single precision and send to CUDA device\n",
    "sequence = gpu(f32(sequence))\n",
    "parameters = gpu(f32(parameters)) |> vec\n",
    "trajectory = gpu(f32(trajectory))\n",
    "coil_sensitivities = gpu(f32(coil_sensitivities))\n",
    "coordinates = gpu(f32(coordinates)) |> vec"
   ]
  },
  {
   "cell_type": "code",
   "execution_count": null,
   "id": "e77cd4c0-e3c7-478c-9776-6c14cb9054a6",
   "metadata": {
    "id": "e77cd4c0-e3c7-478c-9776-6c14cb9054a6"
   },
   "outputs": [],
   "source": [
    "# To calclate the signal, we first compute magnetization at echo times in all voxels\n",
    "CUDA.@time magnetization = simulate_magnetization(resource, sequence, parameters);\n",
    "\n",
    "# Then we apply phase encoding (typically only for Cartesian trajectories)\n",
    "CUDA.@time phase_encoding!(magnetization, trajectory, coordinates)\n",
    "\n",
    "# Finally, we compute signal from (phase-encoded) magnetization at echo times\n",
    "CUDA.@time signal = magnetization_to_signal(resource, magnetization, parameters, trajectory, coordinates, coil_sensitivities);"
   ]
  },
  {
   "cell_type": "code",
   "execution_count": null,
   "id": "a2d3f697-162c-4f28-b28a-c7cfcc332485",
   "metadata": {
    "id": "a2d3f697-162c-4f28-b28a-c7cfcc332485"
   },
   "outputs": [],
   "source": [
    "# Alternatively, we can use the simulate_signal function which combines the above three steps into one\n",
    "CUDA.@time signal = simulate_signal(resource, sequence, parameters, trajectory, coordinates, coil_sensitivities);"
   ]
  },
  {
   "cell_type": "code",
   "execution_count": null,
   "id": "8788fda9-ae5e-4c13-8f0b-fc89b9e40b1d",
   "metadata": {
    "id": "8788fda9-ae5e-4c13-8f0b-fc89b9e40b1d"
   },
   "outputs": [],
   "source": [
    "# Let's do it again to see the actual runtime without compilation\n",
    "CUDA.@time signal = simulate_signal(resource, sequence, parameters, trajectory, coordinates, coil_sensitivities);"
   ]
  },
  {
   "cell_type": "code",
   "execution_count": null,
   "id": "8cd15160-24d6-48df-9f4a-30779db9bbe9",
   "metadata": {
    "id": "8cd15160-24d6-48df-9f4a-30779db9bbe9"
   },
   "outputs": [],
   "source": [
    "# Let's look at fft images of the signals from the two different coils\n",
    "\n",
    "# Send the signal from GPU back to CPU\n",
    "signal = collect(signal)\n",
    "\n",
    "signal₁ = signal[:, :, 1]\n",
    "signal₂ = signal[:, :, 2]\n",
    "\n",
    "@. signal₁[2:2:end] *= -1 # correct for phase cycling\n",
    "@. signal₂[2:2:end] *= -1 # correct for phase cycling\n",
    "\n",
    "fft_image₁ = rot180(ifft(reshape(signal₁, N, N))) # rot180 instead of fftshifts\n",
    "fft_image₂ = rot180(ifft(reshape(signal₂, N, N))) # rot180 instead of fftshifts\n",
    "\n",
    "figure()\n",
    "subplot(1, 3, 1);\n",
    "imshow(abs.(ρ));\n",
    "title(\"Ground truth \\n proton density\");\n",
    "subplot(1, 3, 2);\n",
    "imshow(abs.(fft_image₁));\n",
    "title(\"fft-image coil 1\");\n",
    "subplot(1, 3, 3);\n",
    "imshow(abs.(fft_image₂));\n",
    "title(\"fft-image coil 2\");\n",
    "\n",
    "display(gcf())"
   ]
  }
 ],
 "metadata": {
  "accelerator": "GPU",
  "colab": {
   "gpuType": "T4",
   "provenance": []
  },
  "kernelspec": {
   "display_name": "Julia 1.11.1",
   "language": "julia",
   "name": "julia-1.11"
  },
  "language_info": {
   "file_extension": ".jl",
   "mimetype": "application/julia",
   "name": "julia",
   "version": "1.11.1"
  }
 },
 "nbformat": 4,
 "nbformat_minor": 5
}
